{
 "cells": [
  {
   "cell_type": "code",
   "execution_count": null,
   "id": "initial_id",
   "metadata": {
    "collapsed": true
   },
   "outputs": [],
   "source": []
  },
  {
   "cell_type": "code",
   "outputs": [
    {
     "name": "stdout",
     "output_type": "stream",
     "text": [
      "True\n",
      "1\n",
      "NVIDIA GeForce RTX 4080 SUPER\n"
     ]
    }
   ],
   "source": [
    "import torch\n",
    "print(torch.cuda.is_available())\n",
    "print(torch.cuda.device_count())\n",
    "print(torch.cuda.get_device_name(0))\n"
   ],
   "metadata": {
    "collapsed": false,
    "ExecuteTime": {
     "end_time": "2024-07-29T01:52:43.884990Z",
     "start_time": "2024-07-29T01:52:42.271428Z"
    }
   },
   "id": "dcd05e455cc57b88",
   "execution_count": 1
  },
  {
   "cell_type": "code",
   "outputs": [
    {
     "name": "stdout",
     "output_type": "stream",
     "text": [
      "loading raw data...\n",
      "Trying to open file: data/DBP15K/zh_en/ent_ids_1\n",
      "Trying to open file: data/DBP15K/zh_en/ent_ids_2\n"
     ]
    },
    {
     "name": "stderr",
     "output_type": "stream",
     "text": [
      "IOPub data rate exceeded.\n",
      "The notebook server will temporarily stop sending output\n",
      "to the client in order to avoid crashing it.\n",
      "To change this limit, set the config variable\n",
      "`--NotebookApp.iopub_data_rate_limit`.\n",
      "\n",
      "Current values:\n",
      "NotebookApp.iopub_data_rate_limit=1000000.0 (bytes/sec)\n",
      "NotebookApp.rate_limit_window=3.0 (secs)\n",
      "\n"
     ]
    },
    {
     "ename": "ValueError",
     "evalue": "too many values to unpack (expected 2)",
     "output_type": "error",
     "traceback": [
      "\u001B[1;31m---------------------------------------------------------------------------\u001B[0m",
      "\u001B[1;31mValueError\u001B[0m                                Traceback (most recent call last)",
      "Cell \u001B[1;32mIn[12], line 77\u001B[0m\n\u001B[0;32m     75\u001B[0m     \u001B[38;5;28mprint\u001B[39m(\u001B[38;5;124m\"\u001B[39m\u001B[38;5;124mError: read_raw_data returned None\u001B[39m\u001B[38;5;124m\"\u001B[39m)\n\u001B[0;32m     76\u001B[0m \u001B[38;5;28;01melse\u001B[39;00m:\n\u001B[1;32m---> 77\u001B[0m     r_ts, ids \u001B[38;5;241m=\u001B[39m result\n\u001B[0;32m     78\u001B[0m     \u001B[38;5;28mprint\u001B[39m(\u001B[38;5;124mf\u001B[39m\u001B[38;5;124m\"\u001B[39m\u001B[38;5;124mr_ts: \u001B[39m\u001B[38;5;132;01m{\u001B[39;00mr_ts\u001B[38;5;132;01m}\u001B[39;00m\u001B[38;5;124m, ids: \u001B[39m\u001B[38;5;132;01m{\u001B[39;00mids\u001B[38;5;132;01m}\u001B[39;00m\u001B[38;5;124m\"\u001B[39m)\n",
      "\u001B[1;31mValueError\u001B[0m: too many values to unpack (expected 2)"
     ]
    }
   ],
   "source": [
    "import os\n",
    "\n",
    "import os\n",
    "\n",
    "def read_raw_data(file_dir, l=[1, 2], reverse=False):\n",
    "    print('loading raw data...')\n",
    "\n",
    "    def read_file(file_paths):\n",
    "        tups = []\n",
    "        for file_path in file_paths:\n",
    "            with open(file_path, \"r\", encoding=\"utf-8\") as fr:\n",
    "                for line in fr:\n",
    "                    params = line.strip(\"\\n\").split(\"\\t\")\n",
    "                    tups.append(tuple([int(x) for x in params]))\n",
    "        return tups\n",
    "\n",
    "    def read_dict(file_paths):\n",
    "        ent2id_dict = {}\n",
    "        ids = []\n",
    "        for file_path in file_paths:\n",
    "            print(f\"Trying to open file: {file_path}\")  # 调试信息\n",
    "            if not os.path.exists(file_path):\n",
    "                print(f\"File does not exist: {file_path}\")\n",
    "                continue\n",
    "            id = set()\n",
    "            with open(file_path, \"r\", encoding=\"utf-8\") as fr:\n",
    "                for line in fr:\n",
    "                    params = line.strip(\"\\n\").split(\"\\t\")\n",
    "                    ent2id_dict[params[1]] = int(params[0])\n",
    "                    id.add(int(params[0]))\n",
    "            ids.append(id)\n",
    "        return ent2id_dict, ids\n",
    "\n",
    "    ent2id_dict, ids = read_dict([file_dir + \"/ent_ids_\" + str(i) for i in l])\n",
    "    ills = read_file([file_dir + \"/ill_ent_ids\"])\n",
    "    triples = read_file([file_dir + \"/triples_\" + str(i) for i in l])\n",
    "    rel_size = max([t[1] for t in triples]) + 1\n",
    "    reverse_triples = []\n",
    "    r_hs, r_ts = {}, {}\n",
    "    for (h, r, t) in triples:\n",
    "        if r not in r_hs:\n",
    "            r_hs[r] = set()\n",
    "        if r not in r_ts:\n",
    "            r_ts[r] = set()\n",
    "        r_hs[r].add(h)\n",
    "        r_ts[r].add(t)\n",
    "        if reverse:\n",
    "            reverse_r = r + rel_size\n",
    "            reverse_triples.append((t, reverse_r, h))\n",
    "            if reverse_r not in r_hs:\n",
    "                r_hs[reverse_r] = set()\n",
    "            if reverse_r not in r_ts:\n",
    "                r_ts[reverse_r] = set()\n",
    "            r_hs[reverse_r].add(t)\n",
    "            r_ts[reverse_r].add(h)\n",
    "    if reverse:\n",
    "        triples = triples + reverse_triples\n",
    "    assert len(r_hs) == len(r_ts)\n",
    "    return ent2id_dict, ills, triples, r_hs, r_ts, ids\n",
    "\n",
    "file_dir = 'data/DBP15K/zh_en'\n",
    "files = [1, 2]\n",
    "result = read_raw_data(file_dir, files)\n",
    "if result is None:\n",
    "    print(\"Error: read_raw_data returned None\")\n",
    "else:\n",
    "    ent2id_dict, ills, triples, r_hs, r_ts, ids = result\n",
    "    print(f\"ent2id_dict: {ent2id_dict}, ills: {ills}, triples: {triples}, r_hs: {r_hs}, r_ts: {r_ts}, ids: {ids}\")\n",
    "\n",
    "\n",
    "file_dir = 'data/DBP15K/zh_en'\n",
    "files = [1, 2]\n",
    "ent2id_dict, ills, triples, r_hs, r_ts, ids = read_raw_data(file_dir, files)\n",
    "if result is None:\n",
    "    print(\"Error: read_raw_data returned None\")\n",
    "else:\n",
    "    r_ts, ids = result\n",
    "    print(f\"r_ts: {r_ts}, ids: {ids}\")\n",
    "\n"
   ],
   "metadata": {
    "collapsed": false,
    "ExecuteTime": {
     "end_time": "2024-07-29T02:18:21.938579Z",
     "start_time": "2024-07-29T02:18:21.002249Z"
    }
   },
   "id": "e41ba1e745993a24",
   "execution_count": 12
  },
  {
   "cell_type": "code",
   "outputs": [],
   "source": [
    "file_dir = 'data/DBP15K/zh_en'\n",
    "l = [1,2]\n",
    "\n",
    "def read_dict(file_paths):\n",
    "    ent2id_dict = {}\n",
    "    ids = []\n",
    "    for file_path in file_paths:\n",
    "        id = set()\n",
    "        with open(file_path, \"r\", encoding=\"utf-8\") as fr:\n",
    "            for line in fr:\n",
    "                params = line.strip(\"\\n\").split(\"\\t\")\n",
    "                ent2id_dict[params[1]] = int(params[0])\n",
    "                id.add(int(params[0]))\n",
    "        ids.append(id)\n",
    "    return ent2id_dict, ids\n",
    "ent2id_dict, ids = read_dict([file_dir + \"/ent_ids_\" + str(i) for i in l])"
   ],
   "metadata": {
    "collapsed": false,
    "ExecuteTime": {
     "end_time": "2024-07-29T02:23:14.654601Z",
     "start_time": "2024-07-29T02:23:14.611320Z"
    }
   },
   "id": "831c00401cf0ed82",
   "execution_count": 14
  },
  {
   "cell_type": "code",
   "outputs": [],
   "source": [],
   "metadata": {
    "collapsed": false
   },
   "id": "edb791f5e55c9a1"
  }
 ],
 "metadata": {
  "kernelspec": {
   "display_name": "Python 3",
   "language": "python",
   "name": "python3"
  },
  "language_info": {
   "codemirror_mode": {
    "name": "ipython",
    "version": 2
   },
   "file_extension": ".py",
   "mimetype": "text/x-python",
   "name": "python",
   "nbconvert_exporter": "python",
   "pygments_lexer": "ipython2",
   "version": "2.7.6"
  }
 },
 "nbformat": 4,
 "nbformat_minor": 5
}
